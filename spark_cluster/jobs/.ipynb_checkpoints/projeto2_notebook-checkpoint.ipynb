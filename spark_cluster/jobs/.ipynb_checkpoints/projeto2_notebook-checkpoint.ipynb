{
 "cells": [
  {
   "cell_type": "code",
   "execution_count": 2,
   "id": "69a1b2bc-c028-467c-bd5b-3cf61286888c",
   "metadata": {},
   "outputs": [
    {
     "name": "stderr",
     "output_type": "stream",
     "text": [
      "                                                                                \r"
     ]
    },
    {
     "name": "stdout",
     "output_type": "stream",
     "text": [
      "+------------+--------------------+------------------+----------+--------+\n",
      "|ID_Transacao|                Data|             Valor|ID_Cliente|Anomalia|\n",
      "+------------+--------------------+------------------+----------+--------+\n",
      "|       73955|2023-01-07 05:32:...|202.82451434647305|      9314|   false|\n",
      "|       38220|2023-06-16 19:42:...| 461.7422620705475|      7428|   false|\n",
      "|       58300|2023-10-01 13:24:...|312.77835638702317|      2535|   false|\n",
      "|       97198|2024-09-15 22:01:...| 269.6675352166476|      1262|   false|\n",
      "|       50951|2023-02-09 18:51:...|103.37012869703008|      3125|   false|\n",
      "|       98020|2024-11-08 18:27:...|131.95424204314185|      7875|   false|\n",
      "|       54317|2024-11-27 10:20:...|155.01588705192634|      1442|   false|\n",
      "|       21864|2023-03-17 05:49:...| 48.52795667352884|      6467|   false|\n",
      "|       56664|2024-01-16 02:40:...|11.962321504794886|      2279|   false|\n",
      "|       63826|2024-10-28 00:45:...| 346.8514589472834|      3748|   false|\n",
      "|       77865|2024-12-08 15:30:...|467.37558160112803|      8132|   false|\n",
      "|       70137|2023-07-08 05:13:...|162.42171419650973|      5671|   false|\n",
      "|       12562|2023-06-16 18:58:...|105.39546698231557|      3729|   false|\n",
      "|       51279|2023-01-03 18:04:...| 374.2999425747963|      4876|   false|\n",
      "|       81136|2024-02-15 06:23:...|100.43317044591134|      6496|   false|\n",
      "|       67582|2024-01-21 15:10:...|448.90103079623276|      5921|   false|\n",
      "|       92839|2023-07-10 20:11:...|201.94177396649755|      4878|   false|\n",
      "|       64913|2023-06-10 03:57:...|  142.806368522902|      3500|   false|\n",
      "|       13779|2023-02-05 07:20:...|304.48142173178206|      8073|   false|\n",
      "|       41426|2023-01-24 22:23:...|50.613773365629704|      5454|   false|\n",
      "+------------+--------------------+------------------+----------+--------+\n",
      "only showing top 20 rows\n",
      "\n",
      "+------------+--------------------+------------------+----------+--------+\n",
      "|ID_Transacao|                Data|             Valor|ID_Cliente|Anomalia|\n",
      "+------------+--------------------+------------------+----------+--------+\n",
      "|       34212|2023-06-07 20:36:...|  97329.6282951401|      4831|    true|\n",
      "|       54972|2024-05-01 03:59:...|  86902.1921525717|      4802|    true|\n",
      "|       16418|2023-08-19 09:59:...| 67080.82203639041|      3569|    true|\n",
      "|       85079|2024-06-15 10:54:...|50723.007619506156|      3118|    true|\n",
      "|       59776|2023-04-01 15:15:...| 73463.89879660046|      3725|    true|\n",
      "|       35076|2023-10-17 01:44:...| 87304.12151646726|      2288|    true|\n",
      "|       84884|2024-07-21 01:44:...| 74761.49534111764|      9649|    true|\n",
      "|       85887|2023-11-30 08:33:...|57622.999448554736|      4504|    true|\n",
      "|       54406|2024-02-06 06:34:...| 50719.61990393206|      4721|    true|\n",
      "|       74242|2023-05-04 11:41:...| 55100.07493569935|      4574|    true|\n",
      "|       44298|2024-09-15 16:43:...| 81210.71761470966|      4061|    true|\n",
      "|       75100|2023-07-18 00:12:...| 81512.23553539414|      1845|    true|\n",
      "|       62874|2024-10-15 21:30:...| 61052.21875735579|      7083|    true|\n",
      "|       59067|2023-01-07 15:17:...| 83050.60347735127|      6166|    true|\n",
      "|       97518|2023-05-26 13:54:...| 80522.56560263714|      4629|    true|\n",
      "|       58698|2024-10-25 21:26:...| 50257.49082554987|      8051|    true|\n",
      "|       67172|2023-12-25 00:47:...|  98048.4414075815|      4845|    true|\n",
      "|       16057|2023-04-28 22:19:...| 78770.89490910042|      8734|    true|\n",
      "|       49091|2024-02-03 16:44:...| 66686.60400697183|      8429|    true|\n",
      "|       30625|2024-01-11 12:52:...| 97512.88667218514|      6848|    true|\n",
      "+------------+--------------------+------------------+----------+--------+\n",
      "only showing top 20 rows\n",
      "\n"
     ]
    },
    {
     "name": "stderr",
     "output_type": "stream",
     "text": [
      "[Stage 4:===================>                                      (4 + 8) / 12]\r"
     ]
    },
    {
     "name": "stdout",
     "output_type": "stream",
     "text": [
      "Total de linhas no DataFrame de anomalias: 10086\n"
     ]
    },
    {
     "name": "stderr",
     "output_type": "stream",
     "text": [
      "                                                                                \r"
     ]
    },
    {
     "name": "stdout",
     "output_type": "stream",
     "text": [
      "\n",
      "Obrigado DSA. Execução do Job Concluída com Sucesso!\n",
      "\n"
     ]
    }
   ],
   "source": [
    "# Projeto 2 - Banco de Dados, Machine Learning e Pipeline ETL em Cluster Spark Para Detectar Anomalias em Transações Financeiras\n",
    "# Tarefa 1 - Criando o Primeiro Pipeline Para Listar Anomalias nas Transações Financeiras\n",
    "\n",
    "# Imports\n",
    "from pyspark.sql import SparkSession\n",
    "from pyspark.sql.functions import col\n",
    "\n",
    "# Inicializando a sessão Spark\n",
    "spark = SparkSession.builder \\\n",
    "    .appName(\"DSA Projeto 2 - Tarefa 1\") \\\n",
    "    .getOrCreate()\n",
    "\n",
    "# Carregando dados de um arquivo CSV\n",
    "df_dsa = spark.read.csv('../data/dados1_cap05.csv', header = True, inferSchema = True)\n",
    "\n",
    "# Configurando o nível de log\n",
    "spark.sparkContext.setLogLevel('ERROR')\n",
    "\n",
    "# Imprimindo os dados \n",
    "df_dsa.show()\n",
    "\n",
    "# Definindo um limite para considerar uma transação como anomalia\n",
    "LIMITE_ANOMALIA = 50000 \n",
    "\n",
    "# Filtrando transações que são consideradas anomalias\n",
    "anomalias = df_dsa.filter(col('Valor') > LIMITE_ANOMALIA)\n",
    "\n",
    "# Imprimindo anomalias detectadas\n",
    "anomalias.show()\n",
    "\n",
    "# Contagem total de linhas no DataFrame de anomalias\n",
    "print(f\"Total de linhas no DataFrame de anomalias: {anomalias.count()}\")\n",
    "\n",
    "# Salvando o resultado em um arquivo CSV \n",
    "anomalias.write.mode('overwrite').csv('data/resultado_tarefa1', header = True)\n",
    "\n",
    "# Encerrando a sessão Spark\n",
    "spark.stop()\n",
    "\n",
    "print(\"\\nObrigado DSA. Execução do Job Concluída com Sucesso!\\n\")\n",
    "\n"
   ]
  },
  {
   "cell_type": "code",
   "execution_count": null,
   "id": "a81fc096-b645-4374-9eb7-f2bcd6637377",
   "metadata": {},
   "outputs": [],
   "source": []
  }
 ],
 "metadata": {
  "kernelspec": {
   "display_name": "Python 3 (ipykernel)",
   "language": "python",
   "name": "python3"
  },
  "language_info": {
   "codemirror_mode": {
    "name": "ipython",
    "version": 3
   },
   "file_extension": ".py",
   "mimetype": "text/x-python",
   "name": "python",
   "nbconvert_exporter": "python",
   "pygments_lexer": "ipython3",
   "version": "3.11.10"
  }
 },
 "nbformat": 4,
 "nbformat_minor": 5
}
